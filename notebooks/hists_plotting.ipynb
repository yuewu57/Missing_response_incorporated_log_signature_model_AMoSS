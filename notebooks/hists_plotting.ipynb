{
 "cells": [
  {
   "cell_type": "code",
   "execution_count": 1,
   "metadata": {},
   "outputs": [],
   "source": [
    "import numpy as np\n",
    "import random\n",
    "import os\n",
    "import pickle\n",
    "\n",
    "import sys\n",
    "sys.path.insert(0, '../')\n",
    "from definitions import *\n",
    "\n",
    "\n",
    "import copy\n",
    "import matplotlib.pyplot as plt"
   ]
  },
  {
   "cell_type": "code",
   "execution_count": 27,
   "metadata": {},
   "outputs": [],
   "source": [
    "weekly_data=load_pickle(DATA_interim+'participants_class_weekly_general.pkl')"
   ]
  },
  {
   "cell_type": "code",
   "execution_count": 28,
   "metadata": {},
   "outputs": [],
   "source": [
    "def classes_save(col):\n",
    "    ids=[[] for i in range(3)]\n",
    "    \n",
    "    for par in col:\n",
    "        ids[par.diagnosis].append(par.idNumber)\n",
    "    \n",
    "    save_pickle(ids,DATA_interim+'ids_for_classes.pkl')\n",
    "    "
   ]
  },
  {
   "cell_type": "code",
   "execution_count": 29,
   "metadata": {},
   "outputs": [],
   "source": [
    "classes_save(weekly_data)"
   ]
  },
  {
   "cell_type": "code",
   "execution_count": 30,
   "metadata": {},
   "outputs": [],
   "source": [
    "def data_to_hist(collection, minlen=20,class_=None):\n",
    "\n",
    "\n",
    "\n",
    "        vectors=[[] for i in [0,1]]\n",
    "        \n",
    "        \n",
    "        collections1 =buildData(collection, minlen=minlen,class_=class_)\n",
    "   \n",
    "        \n",
    "        for par in collections1:            \n",
    "\n",
    "            \n",
    "            \n",
    "            for j in range(len(vectors)):\n",
    "\n",
    "        \n",
    "                vector = np.zeros(3)\n",
    "            \n",
    "                len_par=len(par.data[j])\n",
    "\n",
    "                for i in range(len_par):\n",
    "                    \n",
    "                    if j==0:\n",
    " \n",
    "                        vector[asrm_cutoff(par.data[j][i])] += 1\n",
    "\n",
    "   \n",
    "                    elif j==1:\n",
    "            \n",
    "                        vector[qids_cutoff(par.data[j][i])] += 1\n",
    "                        \n",
    "                    if qids_cutoff(par.data[j][i])>1:\n",
    "                            print(j,par.idNumber)  \n",
    "\n",
    "                vector /= float(len_par)\n",
    "                \n",
    "            \n",
    "                vectors[j].append(vector)\n",
    "        \n",
    "        \n",
    "        \n",
    "        return vectors"
   ]
  },
  {
   "cell_type": "markdown",
   "metadata": {},
   "source": [
    "### New in DEC"
   ]
  },
  {
   "cell_type": "code",
   "execution_count": 31,
   "metadata": {},
   "outputs": [],
   "source": [
    "def scores_to_hist(collection, class_=None,trun=False):\n",
    "\n",
    "        collections1 =copy.deepcopy(collection)\n",
    "        \n",
    "        if trun:\n",
    "            altman=np.zeros(3,dtype=\"int\")\n",
    "        \n",
    "            qids=np.zeros(3,dtype=\"int\") \n",
    "            \n",
    "            eq5d=np.zeros(3,dtype=\"int\")\n",
    "            \n",
    "            gad7=np.zeros(3,dtype=\"int\")\n",
    "            \n",
    "            for par in collections1:            \n",
    "\n",
    "                if par.diagnosis==class_:\n",
    "            \n",
    "                    for j in range(len(par.data[0])):\n",
    "                        altman[asrm_cutoff(par.data[0][j])]+=1\n",
    "#                     if asrm_cutoff(par.data[0][j])==0:\n",
    "#                             print(\"ALTMAN\",par.idNumber) \n",
    "                    for i in range(len(par.data[1])):\n",
    "                       qids[qids_cutoff(par.data[1][i])]+=1\n",
    "#                     if asrm_cutoff(par.data[0][j])==0:\n",
    "#                             print(\"QIDS\",par.idNumber)\n",
    "            \n",
    "                    for i in range(len(par.data[2])):\n",
    "                        eq5d[eq5d_cutoff(par.data[2][i])]+=1   \n",
    "                \n",
    "                    for i in range(len(par.data[3])):\n",
    "                        gad7[gad7_cutoff(par.data[3][i])]+=1 \n",
    "            \n",
    "        else:\n",
    "            altman=np.zeros(23,dtype=\"int\")\n",
    "        \n",
    "            qids=np.zeros(29,dtype=\"int\")\n",
    "        \n",
    "\n",
    "            eq5d=np.zeros(102,dtype=\"int\")\n",
    "            \n",
    "            gad7=np.zeros(23,dtype=\"int\")\n",
    "        \n",
    "            for par in collections1:            \n",
    "\n",
    "                if par.diagnosis==class_:\n",
    "                    for j in range(len(par.data[0])):\n",
    "        \n",
    "                        if par.data[0][j]>=0:\n",
    "                            altman[par.data[0][j]+1]+=1\n",
    "\n",
    "                        else:\n",
    "                            altman[0]+=1\n",
    "            \n",
    "                    for i in range(len(par.data[1])):\n",
    "        \n",
    "                        if par.data[1][i]>=0:\n",
    "                            qids[par.data[1][i]+1]+=1                    \n",
    "                        else:\n",
    "                            qids[0]+=1        \n",
    "\n",
    "                    for i in range(len(par.data[2])):\n",
    "        \n",
    "                        if par.data[2][i]>=0:\n",
    "                            eq5d[par.data[2][i]+1]+=1                    \n",
    "                        else:\n",
    "                            eq5d[0]+=1      \n",
    "                    for i in range(len(par.data[-1])):\n",
    "        \n",
    "                        if par.data[-1][i]>=0:\n",
    "                            gad7[par.data[1][i]+1]+=1                    \n",
    "                        else:\n",
    "                            gad7[0]+=1      \n",
    "        \n",
    "        return altman,qids,eq5d,gad7"
   ]
  },
  {
   "cell_type": "code",
   "execution_count": 32,
   "metadata": {},
   "outputs": [],
   "source": [
    "def asrm_cutoff(a):\n",
    "        if a<0:\n",
    "            return int(0)\n",
    "        elif a>5:\n",
    "            return int(2)\n",
    "        else:\n",
    "            return int(1)\n",
    "        \n",
    "def qids_cutoff(a):\n",
    "        if a<0:\n",
    "            return int(0)\n",
    "        elif a>10:\n",
    "            return int(2)\n",
    "        else:\n",
    "            return int(1)\n",
    "        \n",
    "def eq5d_cutoff(a):\n",
    "        if a<0:\n",
    "            return int(0)\n",
    "        elif a>82:\n",
    "            return int(2)\n",
    "        else:\n",
    "            return int(1)\n",
    "        \n",
    "def gad7_cutoff(a):\n",
    "        if a<0:\n",
    "            return int(0)\n",
    "        elif a>9:\n",
    "            return int(2)\n",
    "        else:\n",
    "            return int(1)"
   ]
  },
  {
   "cell_type": "code",
   "execution_count": 33,
   "metadata": {},
   "outputs": [],
   "source": [
    "import pandas as pd\n",
    "import seaborn as sns\n",
    "from scipy import stats\n",
    "sns.set(color_codes=True)\n",
    "\n",
    "from PIL import Image\n",
    "from io import BytesIO\n",
    "import io"
   ]
  },
  {
   "cell_type": "code",
   "execution_count": 34,
   "metadata": {},
   "outputs": [],
   "source": [
    "altmantrun_class0,qidstrun_class0,eq5dtrun_class0,gad7trun_class0=scores_to_hist(weekly_data,class_=0,trun=True)\n",
    "altmantrun_class1,qidstrun_class1,eq5dtrun_class1,gad7trun_class1=scores_to_hist(weekly_data,class_=1,trun=True)\n",
    "altmantrun_class2,qidstrun_class2,eq5dtrun_class2,gad7trun_class2=scores_to_hist(weekly_data,class_=2,trun=True)"
   ]
  },
  {
   "cell_type": "code",
   "execution_count": 35,
   "metadata": {},
   "outputs": [
    {
     "name": "stdout",
     "output_type": "stream",
     "text": [
      "1991 2816 3143\n"
     ]
    }
   ],
   "source": [
    "print(np.sum(altmantrun_class0),np.sum(altmantrun_class1),np.sum(altmantrun_class2))"
   ]
  },
  {
   "cell_type": "code",
   "execution_count": 36,
   "metadata": {},
   "outputs": [
    {
     "name": "stdout",
     "output_type": "stream",
     "text": [
      "1991 2816 3143\n"
     ]
    }
   ],
   "source": [
    "print(np.sum(qidstrun_class0),np.sum(qidstrun_class1),np.sum(qidstrun_class2))"
   ]
  },
  {
   "cell_type": "code",
   "execution_count": 37,
   "metadata": {},
   "outputs": [],
   "source": [
    "altmantrun_class0=altmantrun_class0/np.sum(altmantrun_class0)\n",
    "altmantrun_class1=altmantrun_class1/np.sum(altmantrun_class1)\n",
    "altmantrun_class2=altmantrun_class2/np.sum(altmantrun_class2)"
   ]
  },
  {
   "cell_type": "code",
   "execution_count": 38,
   "metadata": {},
   "outputs": [
    {
     "name": "stdout",
     "output_type": "stream",
     "text": [
      "[0.38523355 0.55549975 0.0592667 ] [0.2709517  0.69886364 0.03018466] [0.36302895 0.53738466 0.09958638]\n"
     ]
    }
   ],
   "source": [
    "print(altmantrun_class0,altmantrun_class1,altmantrun_class2)"
   ]
  },
  {
   "cell_type": "code",
   "execution_count": 71,
   "metadata": {},
   "outputs": [],
   "source": [
    "#qidstrun=qidstrun_class0+qidstrun_class1+qidstrun_class2"
   ]
  },
  {
   "cell_type": "code",
   "execution_count": 48,
   "metadata": {},
   "outputs": [],
   "source": [
    "qidstrun_class0=qidstrun_class0/np.sum(qidstrun_class0)\n",
    "qidstrun_class1=qidstrun_class1/np.sum(qidstrun_class1)\n",
    "qidstrun_class2=qidstrun_class2/np.sum(qidstrun_class2)"
   ]
  },
  {
   "cell_type": "code",
   "execution_count": 49,
   "metadata": {},
   "outputs": [
    {
     "name": "stdout",
     "output_type": "stream",
     "text": [
      "[0.38623807 0.15067805 0.46308388] [0.27166193 0.70205966 0.02627841] [0.36589246 0.48106904 0.1530385 ]\n"
     ]
    }
   ],
   "source": [
    "print(qidstrun_class0,qidstrun_class1,qidstrun_class2)"
   ]
  },
  {
   "cell_type": "code",
   "execution_count": 39,
   "metadata": {},
   "outputs": [],
   "source": [
    "eq5dtrun_class0=eq5dtrun_class0/np.sum(eq5dtrun_class0)\n",
    "eq5dtrun_class1=eq5dtrun_class1/np.sum(eq5dtrun_class1)\n",
    "eq5dtrun_class2=eq5dtrun_class2/np.sum(eq5dtrun_class2)"
   ]
  },
  {
   "cell_type": "code",
   "execution_count": 40,
   "metadata": {},
   "outputs": [
    {
     "name": "stdout",
     "output_type": "stream",
     "text": [
      "[0.38623807 0.59316926 0.02059267] [0.27166193 0.29474432 0.43359375] [0.39930003 0.47088769 0.12981228]\n"
     ]
    }
   ],
   "source": [
    "print(eq5dtrun_class0,eq5dtrun_class1,eq5dtrun_class2)"
   ]
  },
  {
   "cell_type": "code",
   "execution_count": 41,
   "metadata": {},
   "outputs": [],
   "source": [
    "gad7trun_class0=gad7trun_class0/np.sum(gad7trun_class0)\n",
    "gad7trun_class1=gad7trun_class1/np.sum(gad7trun_class1)\n",
    "gad7trun_class2=gad7trun_class2/np.sum(gad7trun_class2)"
   ]
  },
  {
   "cell_type": "code",
   "execution_count": 42,
   "metadata": {},
   "outputs": [
    {
     "name": "stdout",
     "output_type": "stream",
     "text": [
      "[0.38724259 0.20944249 0.40331492] [0.27201705 0.71768466 0.0102983 ] [0.37575565 0.48265988 0.14158447]\n"
     ]
    }
   ],
   "source": [
    "print(gad7trun_class0,gad7trun_class1,gad7trun_class2)"
   ]
  },
  {
   "cell_type": "code",
   "execution_count": 43,
   "metadata": {},
   "outputs": [],
   "source": [
    "def trun_plot(labels,data2,data1,data0,xlabel,name,lengends=['BD','HC','BPD'],ylabel=\"Proportion\",figsize=(6, 4.5)):\n",
    "    x = np.arange(len(labels))  # the label locations\n",
    "    width = 0.2 # the width of the bars\n",
    "\n",
    "    fig, ax = plt.subplots(figsize=figsize)\n",
    "    rects1 = ax.bar(x - 1.5*width, data2, width, label=lengends[0])\n",
    "    rects2 = ax.bar(x - 0.5*width, data1, width, label=lengends[1])\n",
    "    rects3 = ax.bar(x + 0.5*width, data0, width, label=lengends[2])\n",
    "# Add some text for labels, title and custom x-axis tick labels, etc.\n",
    "    ax.set_ylabel(ylabel,fontsize=12)\n",
    "#ax.set_title('Numbe',fontsize=14)\n",
    "    ax.set_xticks(x)\n",
    "    ax.set_xlabel(xlabel,fontsize=12)\n",
    "    ax.set_xticklabels(labels,fontsize=12)\n",
    "    ax.legend(fontsize=12)\n",
    "\n",
    "\n",
    "    def autolabel(rects):\n",
    "        for rect in rects:\n",
    "            height = rect.get_height()\n",
    "            ax.annotate('{:.0%}'.format(height),\n",
    "                    xy=(rect.get_x() + rect.get_width() / 2, height),\n",
    "                    xytext=(0, 0.25),  # 3 points vertical offset\n",
    "                    textcoords=\"offset points\",\n",
    "                    ha='center', va='bottom')\n",
    "\n",
    "\n",
    "    autolabel(rects1)\n",
    "    autolabel(rects2)\n",
    "    autolabel(rects3)\n",
    "    fig.tight_layout()\n",
    "\n",
    "    png1 = io.BytesIO()\n",
    "    fig.savefig(png1, format=\"jpeg\",dpi=300)\n",
    "\n",
    "# Load this image into PIL\n",
    "    png2 = Image.open(png1)\n",
    "\n",
    "# Save as TIFF\n",
    "    png2.save(name+\".jpeg\")\n",
    "    png1.close()\n",
    "    \n",
    "    #plt.show()\n",
    "  #  plt.savefig(name+\".tiff\",dpi=300)    \n",
    "    \n",
    "    \n",
    "    "
   ]
  },
  {
   "cell_type": "code",
   "execution_count": 45,
   "metadata": {},
   "outputs": [
    {
     "data": {
      "image/png": "[encoded data removed]",
      "text/plain": [
       "<Figure size 432x324 with 1 Axes>"
      ]
     },
     "metadata": {},
     "output_type": "display_data"
    }
   ],
   "source": [
    "trun_plot([\"No Answer\", \"Score$<5.5$\",\"Score$\\geq 5.5$\"],altmantrun_class2,altmantrun_class1,altmantrun_class0,\\\n",
    "          'ASRM Scores',name=DATA_DIR+\"/plots/ASRMtrun_barchart_proportion\")"
   ]
  },
  {
   "cell_type": "code",
   "execution_count": 50,
   "metadata": {},
   "outputs": [
    {
     "data": {
      "image/png": "[encoded data removed]",
      "text/plain": [
       "<Figure size 432x324 with 1 Axes>"
      ]
     },
     "metadata": {},
     "output_type": "display_data"
    }
   ],
   "source": [
    "trun_plot([\"No Answer\", \"Score$\\leq 10$\",\"Score$> 10$\"],qidstrun_class2,qidstrun_class1,qidstrun_class0,\\\n",
    "          'QIDS Scores',name=DATA_DIR+\"/plots/QIDStrun_barchart_proportion\")"
   ]
  },
  {
   "cell_type": "code",
   "execution_count": 44,
   "metadata": {},
   "outputs": [
    {
     "data": {
      "image/png": "[encoded data removed]",
      "text/plain": [
       "<Figure size 432x324 with 1 Axes>"
      ]
     },
     "metadata": {},
     "output_type": "display_data"
    }
   ],
   "source": [
    "trun_plot([\"No Answer\", \"Score$<82.8$\",\"Score$\\geq 82.8$\"],eq5dtrun_class2,eq5dtrun_class1,eq5dtrun_class0,\\\n",
    "          'EQ-5D Scores',name=DATA_DIR+\"/plots/EQ5Dtrun_barchart_proportion\")"
   ]
  },
  {
   "cell_type": "code",
   "execution_count": 23,
   "metadata": {},
   "outputs": [
    {
     "data": {
      "image/png": "[encoded data removed]",
      "text/plain": [
       "<Figure size 432x324 with 1 Axes>"
      ]
     },
     "metadata": {},
     "output_type": "display_data"
    }
   ],
   "source": [
    "trun_plot([\"No Answer\", \"Score$<10$\",\"Score$\\geq 10$\"],gad7trun_class2,gad7trun_class1,gad7trun_class0,\\\n",
    "          'GAD-7 Scores',name=DATA_DIR+\"/plots/GAD7trun_barchart_proportion\")"
   ]
  },
  {
   "cell_type": "code",
   "execution_count": 24,
   "metadata": {},
   "outputs": [],
   "source": [
    "def missing_proportions(collection, class_=0):\n",
    "\n",
    "            collections1 =copy.deepcopy(collection)\n",
    "        \n",
    "\n",
    "            altman,qids,eq5d,gad7=[],[],[],[]\n",
    "            \n",
    "            for par in collections1:            \n",
    "\n",
    "                if par.diagnosis==class_:\n",
    "                    len_=len(par.data[0])\n",
    "                    altman.append(len(np.where(par.data[0]<0)[0])/len_)\n",
    "                    qids.append(len(np.where(par.data[1]<0)[0])/len_)\n",
    "                    eq5d.append(len(np.where(par.data[2]<0)[0])/len_)\n",
    "                    gad7.append(len(np.where(par.data[3]<0)[0])/len_)\n",
    "            \n",
    "            return np.array(altman),np.array(qids),np.array(eq5d),np.array(gad7)"
   ]
  },
  {
   "cell_type": "code",
   "execution_count": 25,
   "metadata": {},
   "outputs": [],
   "source": [
    "BPD_missing=missing_proportions(weekly_data, class_=0)\n",
    "HC_missing=missing_proportions(weekly_data, class_=1)\n",
    "BD_missing=missing_proportions(weekly_data, class_=2)"
   ]
  },
  {
   "cell_type": "code",
   "execution_count": 125,
   "metadata": {},
   "outputs": [],
   "source": [
    "def missing_proportions_pd(collection):\n",
    "            \n",
    "            groups=['BPD','HC','BD']\n",
    "            types=['ASRM','QIDS','EQ-5D','GAD-7']\n",
    "            collections1 =copy.deepcopy(collection)\n",
    "    \n",
    "            \n",
    "            datas=[]\n",
    "            \n",
    "            for par in collections1:            \n",
    "\n",
    "                    \n",
    "                    len_=len(par.data[0])\n",
    "                    for j in range(len(par.data)):\n",
    "                        \n",
    "                        datas.append([groups[par.diagnosis],types[j],len(np.where(par.data[j]<0)[0])/len_])\n",
    "\n",
    "            \n",
    "            return pd.DataFrame(datas, columns=['Diagnosis','Questionnaire type','Proportion of missing weeks per participant'])"
   ]
  },
  {
   "cell_type": "code",
   "execution_count": 126,
   "metadata": {},
   "outputs": [],
   "source": [
    "missing_pd=missing_proportions_pd(weekly_data)"
   ]
  },
  {
   "cell_type": "code",
   "execution_count": 132,
   "metadata": {},
   "outputs": [
    {
     "data": {
      "image/png": "[encoded data removed]",
      "text/plain": [
       "<Figure size 720x504 with 1 Axes>"
      ]
     },
     "metadata": {},
     "output_type": "display_data"
    }
   ],
   "source": [
    "\n",
    "\n",
    "a4_dims = (10, 7)\n",
    "\n",
    "fig, ax = plt.subplots(figsize=a4_dims)\n",
    "\n",
    "sns.set(font_scale=1.2)\n",
    "sns.boxplot(x=\"Questionnaire type\", y='Proportion of missing weeks per participant',\\\n",
    "            hue=\"Diagnosis\", data=missing_pd,ax=ax,hue_order=['BD','HC','BPD'])\n",
    "fontsize=13\n",
    "plt.legend(bbox_to_anchor=(1.02, 1),fontsize=fontsize)\n",
    "plt.savefig(DATA_DIR+'plots/Missing_proportion.jpeg',dpi=300,bbox_inches='tight')"
   ]
  },
  {
   "cell_type": "code",
   "execution_count": 116,
   "metadata": {},
   "outputs": [
    {
     "data": {
      "text/html": [
       "<div>\n",
       "<style scoped>\n",
       "    .dataframe tbody tr th:only-of-type {\n",
       "        vertical-align: middle;\n",
       "    }\n",
       "\n",
       "    .dataframe tbody tr th {\n",
       "        vertical-align: top;\n",
       "    }\n",
       "\n",
       "    .dataframe thead th {\n",
       "        text-align: right;\n",
       "    }\n",
       "</style>\n",
       "<table border=\"1\" class=\"dataframe\">\n",
       "  <thead>\n",
       "    <tr style=\"text-align: right;\">\n",
       "      <th></th>\n",
       "      <th>Diagnosis</th>\n",
       "      <th>Type</th>\n",
       "      <th>Proportion</th>\n",
       "    </tr>\n",
       "  </thead>\n",
       "  <tbody>\n",
       "    <tr>\n",
       "      <th>0</th>\n",
       "      <td>HC</td>\n",
       "      <td>ASRM</td>\n",
       "      <td>0.115385</td>\n",
       "    </tr>\n",
       "    <tr>\n",
       "      <th>1</th>\n",
       "      <td>HC</td>\n",
       "      <td>QIDS</td>\n",
       "      <td>0.115385</td>\n",
       "    </tr>\n",
       "    <tr>\n",
       "      <th>2</th>\n",
       "      <td>HC</td>\n",
       "      <td>EQ-5D</td>\n",
       "      <td>0.115385</td>\n",
       "    </tr>\n",
       "    <tr>\n",
       "      <th>3</th>\n",
       "      <td>HC</td>\n",
       "      <td>GAD-7</td>\n",
       "      <td>0.115385</td>\n",
       "    </tr>\n",
       "    <tr>\n",
       "      <th>4</th>\n",
       "      <td>HC</td>\n",
       "      <td>ASRM</td>\n",
       "      <td>0.528302</td>\n",
       "    </tr>\n",
       "    <tr>\n",
       "      <th>...</th>\n",
       "      <td>...</td>\n",
       "      <td>...</td>\n",
       "      <td>...</td>\n",
       "    </tr>\n",
       "    <tr>\n",
       "      <th>555</th>\n",
       "      <td>HC</td>\n",
       "      <td>GAD-7</td>\n",
       "      <td>0.730769</td>\n",
       "    </tr>\n",
       "    <tr>\n",
       "      <th>556</th>\n",
       "      <td>BPD</td>\n",
       "      <td>ASRM</td>\n",
       "      <td>0.928571</td>\n",
       "    </tr>\n",
       "    <tr>\n",
       "      <th>557</th>\n",
       "      <td>BPD</td>\n",
       "      <td>QIDS</td>\n",
       "      <td>0.928571</td>\n",
       "    </tr>\n",
       "    <tr>\n",
       "      <th>558</th>\n",
       "      <td>BPD</td>\n",
       "      <td>EQ-5D</td>\n",
       "      <td>0.928571</td>\n",
       "    </tr>\n",
       "    <tr>\n",
       "      <th>559</th>\n",
       "      <td>BPD</td>\n",
       "      <td>GAD-7</td>\n",
       "      <td>0.928571</td>\n",
       "    </tr>\n",
       "  </tbody>\n",
       "</table>\n",
       "<p>560 rows × 3 columns</p>\n",
       "</div>"
      ],
      "text/plain": [
       "    Diagnosis   Type  Proportion\n",
       "0          HC   ASRM    0.115385\n",
       "1          HC   QIDS    0.115385\n",
       "2          HC  EQ-5D    0.115385\n",
       "3          HC  GAD-7    0.115385\n",
       "4          HC   ASRM    0.528302\n",
       "..        ...    ...         ...\n",
       "555        HC  GAD-7    0.730769\n",
       "556       BPD   ASRM    0.928571\n",
       "557       BPD   QIDS    0.928571\n",
       "558       BPD  EQ-5D    0.928571\n",
       "559       BPD  GAD-7    0.928571\n",
       "\n",
       "[560 rows x 3 columns]"
      ]
     },
     "execution_count": 116,
     "metadata": {},
     "output_type": "execute_result"
    }
   ],
   "source": [
    "missing_pd"
   ]
  }
 ],
 "metadata": {
  "kernelspec": {
   "display_name": "Python 3",
   "language": "python",
   "name": "python3"
  },
  "language_info": {
   "codemirror_mode": {
    "name": "ipython",
    "version": 3
   },
   "file_extension": ".py",
   "mimetype": "text/x-python",
   "name": "python",
   "nbconvert_exporter": "python",
   "pygments_lexer": "ipython3",
   "version": "3.6.9"
  }
 },
 "nbformat": 4,
 "nbformat_minor": 2
}
